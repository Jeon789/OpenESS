{
 "cells": [
  {
   "cell_type": "code",
   "execution_count": 1,
   "metadata": {},
   "outputs": [],
   "source": [
    "import tensorflow as tf\n",
    "import os"
   ]
  },
  {
   "cell_type": "code",
   "execution_count": 2,
   "metadata": {},
   "outputs": [
    {
     "name": "stderr",
     "output_type": "stream",
     "text": [
      "[W 220928 08:36:07 append:50] Building image using Append builder...\n",
      "[I 220928 08:36:07 base:105] Creating docker context: /tmp/fairing_context_2qjugj0l\n",
      "[I 220928 08:36:07 converted_notebook:127] Converting fashion-mnist-fairing-onlyb.ipynb to fashion-mnist-fairing-onlyb.py\n",
      "[I 220928 08:36:07 docker_creds_:234] Loading Docker credentials for repository 'brightfly/kubeflow-jupyter-lab:tf2.0-cpu'\n",
      "[W 220928 08:36:10 append:54] Image successfully built in 2.674934171140194s.\n",
      "[W 220928 08:36:10 append:94] Pushing image 192.168.0.180:5000/fairing-job:215C8880...\n",
      "[I 220928 08:36:10 docker_creds_:234] Loading Docker credentials for repository '192.168.0.180:5000/fairing-job:215C8880'\n",
      "[W 220928 08:36:10 append:81] Uploading 192.168.0.180:5000/fairing-job:215C8880\n",
      "[I 220928 08:36:10 docker_session_:280] Layer sha256:fd781ca227d0199735cceb67afa81e2a073b5ef5867ca6e96ad46e002a03252a exists, skipping\n",
      "[I 220928 08:36:10 docker_session_:280] Layer sha256:5667fdb72017d1fb364744ca1abf7b6f3bbe9c98c3786f294a461c2866db69ab exists, skipping\n",
      "[I 220928 08:36:10 docker_session_:280] Layer sha256:1c60aaf19cc4c142934f390281975f61956475c205b5895711f839a91f927779 exists, skipping\n",
      "[I 220928 08:36:10 docker_session_:280] Layer sha256:069de100aaecb1299b09dab29a4eb39a2ca6a5f8c0a033b65ff0e15e9ea39a24 exists, skipping\n",
      "[I 220928 08:36:10 docker_session_:280] Layer sha256:df80607e3e38dc3f117e967a36620c42f791afc9ca0568900d13d84c1e3a38bb exists, skipping\n",
      "[I 220928 08:36:10 docker_session_:280] Layer sha256:66257906239d377cd700c566b27f12895ccefcd8d95eae7377f600208151d8e0 exists, skipping\n",
      "[I 220928 08:36:10 docker_session_:280] Layer sha256:8e7d3ffcd500d3ed0b2ee2449a36a44601b8e282cc6d541ab93f1189d4a2cf93 exists, skipping\n",
      "[I 220928 08:36:10 docker_session_:280] Layer sha256:fb9676c4102241f220b864e98c53676e27c407c6ecfbb13c2cbc1fa4de8f1811 exists, skipping\n",
      "[I 220928 08:36:10 docker_session_:280] Layer sha256:ee671aafb583e2321880e275c94d49a49185006730e871435cd851f42d2a775d exists, skipping\n",
      "[I 220928 08:36:10 docker_session_:280] Layer sha256:8f64ecfab6c102a62dd5d912d96113603663ad8b436701bf2dbd1aa9630882e7 exists, skipping\n",
      "[I 220928 08:36:10 docker_session_:280] Layer sha256:d83811f270d56d34a208f721f3dbf1b9242d1900ad8981fc7071339681998a31 exists, skipping\n",
      "[I 220928 08:36:10 docker_session_:280] Layer sha256:af228bb15b867acbee0d6df28dbb42a8218948fdde64833bd021a255a99a2690 exists, skipping\n",
      "[I 220928 08:36:10 docker_session_:280] Layer sha256:d0d480fe0d0ab233a90471379d9d3789d4153ad4611d101cfefdfc0c507d9356 exists, skipping\n",
      "[I 220928 08:36:10 docker_session_:284] Layer sha256:9ae1341a2bb0c23e34dec4ac3e5a9fbdfedfdd7eab2069835ae0e249543e54a1 pushed.\n",
      "[I 220928 08:36:10 docker_session_:280] Layer sha256:50f1fe304a9431ea025aa6ee5e8e45826fa62640a83e55be8bd3c227119cbcd2 exists, skipping\n",
      "[I 220928 08:36:10 docker_session_:280] Layer sha256:6ac505cbabeccba798e608e1bb80ae66f497c2c856733800e1db060e3c875917 exists, skipping\n",
      "[I 220928 08:36:10 docker_session_:280] Layer sha256:485ea80d093de507a5ccd36effaf8dad03b67a1063edbd427fedfe667c9155bc exists, skipping\n",
      "[I 220928 08:36:10 docker_session_:280] Layer sha256:7fc152dfb3a6b5c9a436b49ff6cd72ed7eb5f1fd349128b50ee04c3c5c2355fb exists, skipping\n",
      "[I 220928 08:36:10 docker_session_:280] Layer sha256:d846ead9aa38bc0d35dd500ada5349fe42efb96c89db08b8abcb9ad949332c2a exists, skipping\n",
      "[I 220928 08:36:10 docker_session_:280] Layer sha256:872efc07c3d848e0f55b7cbce9866a8dea7b76d8c1f131801934ea0d856b15c5 exists, skipping\n",
      "[I 220928 08:36:10 docker_session_:280] Layer sha256:c2f81144f815902f9c6e6f7883068544e35924f0efe2275bc41c3d0c558f394c exists, skipping\n",
      "[I 220928 08:36:10 docker_session_:280] Layer sha256:7acbfba21e38804c20c4da292d2f99d88d317b83440fb2f3de0a620edf2b9595 exists, skipping\n",
      "[I 220928 08:36:10 docker_session_:284] Layer sha256:e83262ebd77bcbb18e911e80e2ef26888c76e1846795550ab5aa03bd7d924fd4 pushed.\n",
      "[I 220928 08:36:10 docker_session_:334] Finished upload of: 192.168.0.180:5000/fairing-job:215C8880\n",
      "[W 220928 08:36:10 append:99] Pushed image 192.168.0.180:5000/fairing-job:215C8880 in 0.2398104416206479s.\n"
     ]
    }
   ],
   "source": [
    "class MyFashionMnist(object):\n",
    "  def train(self):\n",
    "\n",
    "    (x_train, y_train), (x_test, y_test) = tf.keras.datasets.fashion_mnist.load_data()\n",
    "    x_train, x_test = x_train / 255.0, x_test / 255.0\n",
    "\n",
    "    model = tf.keras.models.Sequential([\n",
    "      tf.keras.layers.Flatten(input_shape=(28, 28)),\n",
    "      tf.keras.layers.Dense(128, activation='relu'),\n",
    "      tf.keras.layers.Dropout(0.2),\n",
    "      tf.keras.layers.Dense(10, activation='softmax')\n",
    "    ])\n",
    "    model.summary()\n",
    "    model.compile(optimizer='adam',\n",
    "                  loss='sparse_categorical_crossentropy',\n",
    "                  metrics=['accuracy'])\n",
    "\n",
    "    model.fit(x_train, y_train, epochs=10)\n",
    "\n",
    "    model.evaluate(x_test,  y_test, verbose=2)\n",
    "\n",
    "\n",
    "if __name__ == '__main__':\n",
    "    if os.getenv('FAIRING_RUNTIME', None) is None:\n",
    "        from kubeflow.fairing.builders.append.append import AppendBuilder\n",
    "        from kubeflow.fairing.preprocessors.converted_notebook import \\\n",
    "            ConvertNotebookPreprocessor\n",
    "\n",
    "        DOCKER_REGISTRY = '192.168.0.180:5000' #'kubeflow-registry.default.svc.cluster.local:30000'\n",
    "        builder = AppendBuilder(\n",
    "            registry=DOCKER_REGISTRY,\n",
    "            image_name='fairing-job',\n",
    "            base_image='brightfly/kubeflow-jupyter-lab:tf2.0-cpu', #'brightfly/kubeflow-jupyter-lab:tf2.0-gpu'\n",
    "            push=True,\n",
    "            preprocessor=ConvertNotebookPreprocessor(\n",
    "                notebook_file=\"fashion-mnist-fairing-onlyb.ipynb\"\n",
    "            )\n",
    "        )\n",
    "        builder.build()\n",
    "    else:\n",
    "        myModel = MyFashionMnist()\n",
    "        myModel.train()"
   ]
  }
 ],
 "metadata": {
  "kernelspec": {
   "display_name": "Python 3",
   "language": "python",
   "name": "python3"
  },
  "language_info": {
   "codemirror_mode": {
    "name": "ipython",
    "version": 3
   },
   "file_extension": ".py",
   "mimetype": "text/x-python",
   "name": "python",
   "nbconvert_exporter": "python",
   "pygments_lexer": "ipython3",
   "version": "3.6.8"
  }
 },
 "nbformat": 4,
 "nbformat_minor": 4
}
