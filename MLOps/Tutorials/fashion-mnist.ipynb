{
 "cells": [
  {
   "cell_type": "code",
   "execution_count": 1,
   "metadata": {},
   "outputs": [],
   "source": [
    "import tensorflow as tf"
   ]
  },
  {
   "cell_type": "code",
   "execution_count": 2,
   "metadata": {},
   "outputs": [
    {
     "name": "stdout",
     "output_type": "stream",
     "text": [
      "Model: \"sequential\"\n",
      "_________________________________________________________________\n",
      "Layer (type)                 Output Shape              Param #   \n",
      "=================================================================\n",
      "flatten (Flatten)            (None, 784)               0         \n",
      "_________________________________________________________________\n",
      "dense (Dense)                (None, 128)               100480    \n",
      "_________________________________________________________________\n",
      "dropout (Dropout)            (None, 128)               0         \n",
      "_________________________________________________________________\n",
      "dense_1 (Dense)              (None, 10)                1290      \n",
      "=================================================================\n",
      "Total params: 101,770\n",
      "Trainable params: 101,770\n",
      "Non-trainable params: 0\n",
      "_________________________________________________________________\n",
      "Train on 60000 samples\n",
      "Epoch 1/10\n",
      "60000/60000 [==============================] - 9s 144us/sample - loss: 0.5260 - accuracy: 0.8141\n",
      "Epoch 2/10\n",
      "60000/60000 [==============================] - 8s 136us/sample - loss: 0.3999 - accuracy: 0.8543\n",
      "Epoch 3/10\n",
      "60000/60000 [==============================] - 8s 136us/sample - loss: 0.3667 - accuracy: 0.8661\n",
      "Epoch 4/10\n",
      "60000/60000 [==============================] - 8s 135us/sample - loss: 0.3455 - accuracy: 0.8724\n",
      "Epoch 5/10\n",
      "60000/60000 [==============================] - 8s 136us/sample - loss: 0.3297 - accuracy: 0.8785\n",
      "Epoch 6/10\n",
      "60000/60000 [==============================] - 8s 135us/sample - loss: 0.3145 - accuracy: 0.8831\n",
      "Epoch 7/10\n",
      "60000/60000 [==============================] - 8s 134us/sample - loss: 0.3069 - accuracy: 0.8865\n",
      "Epoch 8/10\n",
      "60000/60000 [==============================] - 8s 134us/sample - loss: 0.2964 - accuracy: 0.8888\n",
      "Epoch 9/10\n",
      "60000/60000 [==============================] - 8s 134us/sample - loss: 0.2870 - accuracy: 0.8915\n",
      "Epoch 10/10\n",
      "60000/60000 [==============================] - 8s 135us/sample - loss: 0.2823 - accuracy: 0.8949\n",
      "10000/1 - 1s - loss: 0.2682 - accuracy: 0.8791\n"
     ]
    }
   ],
   "source": [
    "class MyFashionMnist(object):\n",
    "  def train(self):\n",
    "\n",
    "    (x_train, y_train), (x_test, y_test) = tf.keras.datasets.fashion_mnist.load_data()\n",
    "    x_train, x_test = x_train / 255.0, x_test / 255.0\n",
    "\n",
    "    model = tf.keras.models.Sequential([\n",
    "      tf.keras.layers.Flatten(input_shape=(28, 28)),\n",
    "      tf.keras.layers.Dense(128, activation='relu'),\n",
    "      tf.keras.layers.Dropout(0.2),\n",
    "      tf.keras.layers.Dense(10, activation='softmax')\n",
    "    ])\n",
    "    model.summary()\n",
    "    model.compile(optimizer='adam',\n",
    "                  loss='sparse_categorical_crossentropy',\n",
    "                  metrics=['accuracy'])\n",
    "\n",
    "    model.fit(x_train, y_train, epochs=10)\n",
    "\n",
    "    model.evaluate(x_test,  y_test, verbose=2)\n",
    "\n",
    "if __name__ == '__main__':\n",
    "    local_train = MyFashionMnist()\n",
    "    local_train.train()"
   ]
  },
  {
   "cell_type": "code",
   "execution_count": 3,
   "metadata": {},
   "outputs": [
    {
     "name": "stdout",
     "output_type": "stream",
     "text": [
      "Error from server (NotFound): experiments.kubeflow.org \"kube-ex1\" not found\n"
     ]
    }
   ],
   "source": [
    "#kubectl describe experiment <experiment_name> -n <namespace_name>"
   ]
  },
  {
   "cell_type": "code",
   "execution_count": 4,
   "metadata": {},
   "outputs": [
    {
     "name": "stdout",
     "output_type": "stream",
     "text": [
      "test\n"
     ]
    }
   ],
   "source": [
    "print(\"test\")"
   ]
  }
 ],
 "metadata": {
  "kernelspec": {
   "display_name": "Python 3",
   "language": "python",
   "name": "python3"
  },
  "language_info": {
   "codemirror_mode": {
    "name": "ipython",
    "version": 3
   },
   "file_extension": ".py",
   "mimetype": "text/x-python",
   "name": "python",
   "nbconvert_exporter": "python",
   "pygments_lexer": "ipython3",
   "version": "3.6.8"
  }
 },
 "nbformat": 4,
 "nbformat_minor": 4
}
