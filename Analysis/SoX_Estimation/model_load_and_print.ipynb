{
 "cells": [
  {
   "cell_type": "code",
   "execution_count": 19,
   "id": "c124b406",
   "metadata": {},
   "outputs": [],
   "source": [
    "# 머신러닝 모델 load 및 결과(Predict) 출력\n",
    "\n",
    "import pandas as pd\n",
    "import joblib\n",
    "\n",
    "sel_features = ['hour','RACK_VOLTAGE','RACK_MIN_CELL_VOLTAGE','RACK_MIN_CELL_TEMPERATURE',\n",
    "                'RACK_MAX_CELL_TEMPERATURE','RACK_CURRENT','minute','RACK_CELL_TEMPERATURE_GAP',\n",
    "                'RACK_MAX_CELL_VOLTAGE','RACK_CELL_VOLTAGE_AVERAGE','RACK_CELL_VOLTAGE_GAP','day',\n",
    "                'RACK_SOC','RACK_CELL_TEMPERATURE_AVERAGE']\n",
    "\n",
    "label = \"RACK_MAX_CELL_VOLTAGE\"\n",
    "\n",
    "model = joblib.load(\"./model/RACK_MAX_CELL_VOLTAGE/cat_model.pkl\") # load model\n",
    "\n",
    "df = pd.read_feather(\"./forecasting_data/20220630/rack.feather\")[sel_features] # load data\n",
    "\n",
    "validX = df.iloc[:-600,:]                                                    # get Xdata\n",
    "validY = df.reset_index(drop=True).loc[600:,label].reset_index(drop=True)   # get Ydata(after 10min)\n",
    "\n",
    "model.predict(validX)"
   ]
  },
  {
   "cell_type": "code",
   "execution_count": 20,
   "id": "b7610b0d",
   "metadata": {},
   "outputs": [
    {
     "data": {
      "text/plain": [
       "array([3.33074665, 3.33076723, 3.33076723, ..., 3.34102807, 3.34102807,\n",
       "       3.39600268])"
      ]
     },
     "execution_count": 20,
     "metadata": {},
     "output_type": "execute_result"
    }
   ],
   "source": [
    "model.predict(validX)"
   ]
  },
  {
   "cell_type": "code",
   "execution_count": null,
   "id": "2b4439b3",
   "metadata": {},
   "outputs": [],
   "source": []
  }
 ],
 "metadata": {
  "kernelspec": {
   "display_name": "Python 3 (ipykernel)",
   "language": "python",
   "name": "python3"
  },
  "language_info": {
   "codemirror_mode": {
    "name": "ipython",
    "version": 3
   },
   "file_extension": ".py",
   "mimetype": "text/x-python",
   "name": "python",
   "nbconvert_exporter": "python",
   "pygments_lexer": "ipython3",
   "version": "3.8.8"
  }
 },
 "nbformat": 4,
 "nbformat_minor": 5
}
